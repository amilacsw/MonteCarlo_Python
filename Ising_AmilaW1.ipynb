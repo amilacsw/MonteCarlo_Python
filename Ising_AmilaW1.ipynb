{
 "metadata": {
  "name": "",
  "signature": "sha256:82390661d7af58a4e15c7d7dd6ad2d9a860057138aff73b6fb8552ca00455341"
 },
 "nbformat": 3,
 "nbformat_minor": 0,
 "worksheets": [
  {
   "cells": [
    {
     "cell_type": "code",
     "collapsed": false,
     "input": [
      "import numpy as np\n",
      "import matplotlib.pyplot as plt\n",
      "\n",
      "#----------------------------------------------------------------------#\n",
      "#   Build the system\n",
      "#----------------------------------------------------------------------#\n",
      "def hot_start():\n",
      "    lattice = np.random.random_integers(0,1,(ns,ns))\n",
      "    lattice[lattice==0] =- 1\n",
      "\n",
      "    return lattice\n",
      "\n",
      "def cold_start():\n",
      "    lattice = np.ones((ns,ns))\n",
      "\n",
      "    return lattice\n",
      "\n",
      "\n",
      "#----------------------------------------------------------------------#\n",
      "#   Periodic boundary conditions \n",
      "#----------------------------------------------------------------------#\n",
      "def bc(i):\n",
      "    if i > ns-1:\n",
      "        return 0\n",
      "    if i < 0:\n",
      "        return ns-1\n",
      "    else:\n",
      "        return i\n",
      "\n",
      "#----------------------------------------------------------------------#\n",
      "#   Measure magnetization\n",
      "#----------------------------------------------------------------------#\n",
      "\n",
      "def mag(lattice):\n",
      "\tm = 0.\n",
      "\tfor j in range(0,ns):\n",
      "\t\t\t\tfor k in range(0,ns):\n",
      "\t\t\t\t\tm += lattice[j,k]\n",
      "\treturn m/(ns*ns)\t\n",
      "\n",
      "#----------------------------------------------------------------------#\n",
      "#   Calculate internal energy\n",
      "#----------------------------------------------------------------------#\n",
      "def energy(lattice, N, M):\n",
      "    return -1 * lattice[N,M] * (lattice[bc(N-1), M] \\\n",
      "                               + lattice[bc(N+1), M] \\\n",
      "                               + lattice[N, bc(M-1)] \\\n",
      "                               + lattice[N, bc(M+1)])\n",
      "\n",
      "def sum_nn(lattice, N, M):\n",
      "    return (lattice[bc(N-1), M] + lattice[bc(N+1), M] + lattice[N, bc(M-1)] + lattice[N, bc(M+1)])\n",
      "\n",
      "\n",
      "#----------------------------------------------------------------------#\n",
      "#   The Main monte carlo loop\n",
      "#----------------------------------------------------------------------#\n",
      "def update(beta):\n",
      "    #lattice = hot_start()\n",
      "\n",
      "    for step in enumerate(range(ns*nw)):\n",
      "        j = np.random.randint(0,ns)\n",
      "        k = np.random.randint(0,ns)\n",
      "\n",
      "        E = -2. * energy(lattice, N, M)\n",
      "\n",
      "        if E <= 0.:\n",
      "            lattice[j,k] *= -1\n",
      "        elif np.exp(-beta*E) > np.random.rand():\n",
      "            lattice[j,k] *= -1\n",
      "\n",
      "def sweep(lattice, beta):\n",
      "\tacc = 0\n",
      "\tfor j in range(0,ns):\n",
      "\t\t\tfor k in range(0,ns):\n",
      "\t\t\t\tsum_nn = lattice[bc(j-1), k] + lattice[bc(j+1), k] + lattice[j, bc(k-1)] + lattice[j, bc(k+1)]\n",
      "\t\t\t\tnew_spin = -lattice[j,k]\n",
      "\t\t\t\tdE =-1*(new_spin-lattice[j,k])*sum_nn\n",
      "\t\t\t\tif dE <= 0.:\n",
      "\t\t\t\t\tlattice[j,k] = new_spin\n",
      "\t\t\t\t\tacc += 1\n",
      "\t\t\t\telif np.exp(-beta*dE) > np.random.rand():\n",
      "\t\t\t\t\tlattice[j,k] = new_spin\n",
      "\t\t\t\t\tacc += 1\n",
      "\taccept = (1.*acc)/(ns*ns)\n",
      "\t#print(\"Acceptance: \",accept)\n",
      "\n",
      "\n",
      "#----------------------------------------------------------------------#\n",
      "#   Main\n",
      "#----------------------------------------------------------------------#\n",
      "\n",
      "ns = 50\n",
      "nsweeps = 600\n",
      "#beta = 0.60\n",
      "\n",
      "print(\"Size = \", ns)\n",
      "print(\"Sweeps = \", nsweeps)\n",
      "#print(\"beta = \", beta)\n",
      "accept = 0.0\n",
      "#lattice = hot_start()\n",
      "#m = mag(lattice)\n",
      "#print(\"Mag = \" ,m)\n",
      "#mav = 0\n",
      "mlist = np.ones(nsweeps)\n",
      "\n",
      "# List of beta\n",
      "betas=np.linspace(0,1,101)\n",
      "# Array for storing ensemble average of the magnetization\n",
      "mav=np.ones(len(betas))\n",
      "# Array for storing m values in a sweep\n",
      "Mlist=np.ones(nsweeps)\n",
      "\n",
      "lattice = hot_start()\n",
      "\n",
      "for p in range(len(betas)):\n",
      "    beta=betas[p]\n",
      "    sumM=0\n",
      "    for n in range(nsweeps):\n",
      "        sweep(lattice, beta)\n",
      "        #update(beta)\n",
      "        m = mag(lattice)\n",
      "        Mlist[n]=np.abs(m)\n",
      "    for i in range(300,nsweeps):\n",
      "        sumM=sumM+Mlist[i]\n",
      "    mav[p]=sumM/(nsweeps-300)\n",
      "plt.plot(betas,mav)\n",
      "plt.xlabel('$Beta$')\n",
      "plt.ylabel('Avg. Magnetization')\n",
      "plt.title('M Vs Beta')\n",
      "plt.show()"
     ],
     "language": "python",
     "metadata": {},
     "outputs": [
      {
       "output_type": "stream",
       "stream": "stdout",
       "text": [
        "('Size = ', 50)\n",
        "('Sweeps = ', 600)\n"
       ]
      },
      {
       "metadata": {},
       "output_type": "display_data",
       "png": "[encoded data removed]",
       "text": [
        "<matplotlib.figure.Figure at 0x81c3f60>"
       ]
      }
     ],
     "prompt_number": 1
    },
    {
     "cell_type": "code",
     "collapsed": false,
     "input": [],
     "language": "python",
     "metadata": {},
     "outputs": []
    }
   ],
   "metadata": {}
  }
 ]
}